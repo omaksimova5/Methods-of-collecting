{
 "cells": [
  {
   "cell_type": "code",
   "execution_count": 1,
   "id": "bc9173d1",
   "metadata": {},
   "outputs": [
    {
     "ename": "ModuleNotFoundError",
     "evalue": "No module named 'jobparser'",
     "output_type": "error",
     "traceback": [
      "\u001b[1;31m---------------------------------------------------------------------------\u001b[0m",
      "\u001b[1;31mModuleNotFoundError\u001b[0m                       Traceback (most recent call last)",
      "\u001b[1;32m~\\AppData\\Local\\Temp\\ipykernel_6316\\2113031204.py\u001b[0m in \u001b[0;36m<module>\u001b[1;34m\u001b[0m\n\u001b[0;32m      1\u001b[0m \u001b[1;32mimport\u001b[0m \u001b[0mscrapy\u001b[0m\u001b[1;33m\u001b[0m\u001b[1;33m\u001b[0m\u001b[0m\n\u001b[0;32m      2\u001b[0m \u001b[1;32mfrom\u001b[0m \u001b[0mscrapy\u001b[0m\u001b[1;33m.\u001b[0m\u001b[0mhttp\u001b[0m \u001b[1;32mimport\u001b[0m \u001b[0mHtmlResponse\u001b[0m\u001b[1;33m\u001b[0m\u001b[1;33m\u001b[0m\u001b[0m\n\u001b[1;32m----> 3\u001b[1;33m \u001b[1;32mfrom\u001b[0m \u001b[0mjobparser\u001b[0m\u001b[1;33m.\u001b[0m\u001b[0mitems\u001b[0m \u001b[1;32mimport\u001b[0m \u001b[0mJobparserItem\u001b[0m\u001b[1;33m\u001b[0m\u001b[1;33m\u001b[0m\u001b[0m\n\u001b[0m",
      "\u001b[1;31mModuleNotFoundError\u001b[0m: No module named 'jobparser'"
     ]
    }
   ],
   "source": [
    "import scrapy\n",
    "from scrapy.http import HtmlResponse\n",
    "from jobparser.items import JobparserItem"
   ]
  },
  {
   "cell_type": "code",
   "execution_count": 2,
   "id": "0eaa84b2",
   "metadata": {},
   "outputs": [],
   "source": [
    "class HhruSpider(scrapy.Spider):\n",
    "    name = 'hhru'\n",
    "    allowed_domains = ['hh.ru']\n",
    "    search = 'puyhon'"
   ]
  },
  {
   "cell_type": "code",
   "execution_count": 3,
   "id": "086390c0",
   "metadata": {},
   "outputs": [
    {
     "ename": "NameError",
     "evalue": "name 'search' is not defined",
     "output_type": "error",
     "traceback": [
      "\u001b[1;31m---------------------------------------------------------------------------\u001b[0m",
      "\u001b[1;31mNameError\u001b[0m                                 Traceback (most recent call last)",
      "\u001b[1;32m~\\AppData\\Local\\Temp\\ipykernel_6316\\2135673751.py\u001b[0m in \u001b[0;36m<module>\u001b[1;34m\u001b[0m\n\u001b[1;32m----> 1\u001b[1;33m \u001b[0mstart_urls\u001b[0m \u001b[1;33m=\u001b[0m \u001b[1;33m[\u001b[0m\u001b[1;34mf'https://hh.ru/search/vacancy?L_save_area=true&clusters=true&enable_snippets=true&text={search}&showClusters=true'\u001b[0m\u001b[1;33m]\u001b[0m\u001b[1;33m\u001b[0m\u001b[1;33m\u001b[0m\u001b[0m\n\u001b[0m",
      "\u001b[1;31mNameError\u001b[0m: name 'search' is not defined"
     ]
    }
   ],
   "source": [
    "start_urls = [f'https://hh.ru/search/vacancy?L_save_area=true&clusters=true&enable_snippets=true&text={search}&showClusters=true']"
   ]
  },
  {
   "cell_type": "code",
   "execution_count": 4,
   "id": "7d8285fb",
   "metadata": {},
   "outputs": [
    {
     "ename": "IndentationError",
     "evalue": "expected an indented block (3682524889.py, line 1)",
     "output_type": "error",
     "traceback": [
      "\u001b[1;36m  File \u001b[1;32m\"C:\\Users\\Оксана\\AppData\\Local\\Temp\\ipykernel_6316\\3682524889.py\"\u001b[1;36m, line \u001b[1;32m1\u001b[0m\n\u001b[1;33m    def parse(self, response: HtmlResponse):\u001b[0m\n\u001b[1;37m                                            ^\u001b[0m\n\u001b[1;31mIndentationError\u001b[0m\u001b[1;31m:\u001b[0m expected an indented block\n"
     ]
    }
   ],
   "source": [
    "def parse(self, response: HtmlResponse):"
   ]
  },
  {
   "cell_type": "code",
   "execution_count": 5,
   "id": "67089d04",
   "metadata": {},
   "outputs": [
    {
     "ename": "NameError",
     "evalue": "name 'response' is not defined",
     "output_type": "error",
     "traceback": [
      "\u001b[1;31m---------------------------------------------------------------------------\u001b[0m",
      "\u001b[1;31mNameError\u001b[0m                                 Traceback (most recent call last)",
      "\u001b[1;32m~\\AppData\\Local\\Temp\\ipykernel_6316\\3515161450.py\u001b[0m in \u001b[0;36m<module>\u001b[1;34m\u001b[0m\n\u001b[1;32m----> 1\u001b[1;33m \u001b[0mnext_page\u001b[0m \u001b[1;33m=\u001b[0m \u001b[0mresponse\u001b[0m\u001b[1;33m.\u001b[0m\u001b[0mcss\u001b[0m\u001b[1;33m(\u001b[0m\u001b[1;34m'a.HH-Pager-Controls-Next.HH-Pager-Control::attr(href)'\u001b[0m\u001b[1;33m)\u001b[0m\u001b[1;33m.\u001b[0m\u001b[0mextract_first\u001b[0m\u001b[1;33m(\u001b[0m\u001b[1;33m)\u001b[0m\u001b[1;33m\u001b[0m\u001b[1;33m\u001b[0m\u001b[0m\n\u001b[0m",
      "\u001b[1;31mNameError\u001b[0m: name 'response' is not defined"
     ]
    }
   ],
   "source": [
    "next_page = response.css('a.HH-Pager-Controls-Next.HH-Pager-Control::attr(href)').extract_first()"
   ]
  },
  {
   "cell_type": "code",
   "execution_count": 6,
   "id": "7ba9fc62",
   "metadata": {},
   "outputs": [
    {
     "ename": "IndentationError",
     "evalue": "unexpected indent (632979791.py, line 2)",
     "output_type": "error",
     "traceback": [
      "\u001b[1;36m  File \u001b[1;32m\"C:\\Users\\Оксана\\AppData\\Local\\Temp\\ipykernel_6316\\632979791.py\"\u001b[1;36m, line \u001b[1;32m2\u001b[0m\n\u001b[1;33m    for link in vacancy_links:\u001b[0m\n\u001b[1;37m    ^\u001b[0m\n\u001b[1;31mIndentationError\u001b[0m\u001b[1;31m:\u001b[0m unexpected indent\n"
     ]
    }
   ],
   "source": [
    " vacancy_links = response.css('div.vacancy-serp div.vacancy-serp-item a.HH-LinkModifier::attr(href)').extract()\n",
    "        for link in vacancy_links:\n",
    "            yield response.follow(link, callback=self.vacancy_parse)"
   ]
  },
  {
   "cell_type": "code",
   "execution_count": 7,
   "id": "a41d8d13",
   "metadata": {},
   "outputs": [
    {
     "ename": "SyntaxError",
     "evalue": "'yield' outside function (3941920451.py, line 1)",
     "output_type": "error",
     "traceback": [
      "\u001b[1;36m  File \u001b[1;32m\"C:\\Users\\Оксана\\AppData\\Local\\Temp\\ipykernel_6316\\3941920451.py\"\u001b[1;36m, line \u001b[1;32m1\u001b[0m\n\u001b[1;33m    yield response.follow(next_page, callback=self.parse)\u001b[0m\n\u001b[1;37m    ^\u001b[0m\n\u001b[1;31mSyntaxError\u001b[0m\u001b[1;31m:\u001b[0m 'yield' outside function\n"
     ]
    }
   ],
   "source": [
    "yield response.follow(next_page, callback=self.parse)"
   ]
  },
  {
   "cell_type": "code",
   "execution_count": 8,
   "id": "9113640a",
   "metadata": {},
   "outputs": [],
   "source": [
    "def vacancy_parse(self, response: HtmlResponse):\n",
    "        name_job = response.xpath('//h1/text()').extract_first()\n",
    "        salary_job = response.css('p.vacancy-salary span::text').extract()\n",
    "        location_job = response.xpath('//p[@data-qa=\"vacancy-view-location\"]//text()').extract()\n",
    "        position_link = response.url\n",
    "        company_job = response.xpath('//span[@class=\"bloko-section-header-2 bloko-section-header-2_lite\"]/text()').extract()\n",
    "        yield JobparserItem(name=name_job, salary=salary_job, location=location_job,\n",
    "                            link=position_link, company=company_job)"
   ]
  },
  {
   "cell_type": "code",
   "execution_count": 9,
   "id": "b1c3e3d4",
   "metadata": {},
   "outputs": [
    {
     "ename": "ModuleNotFoundError",
     "evalue": "No module named 'jobparser'",
     "output_type": "error",
     "traceback": [
      "\u001b[1;31m---------------------------------------------------------------------------\u001b[0m",
      "\u001b[1;31mModuleNotFoundError\u001b[0m                       Traceback (most recent call last)",
      "\u001b[1;32m~\\AppData\\Local\\Temp\\ipykernel_6316\\2113031204.py\u001b[0m in \u001b[0;36m<module>\u001b[1;34m\u001b[0m\n\u001b[0;32m      1\u001b[0m \u001b[1;32mimport\u001b[0m \u001b[0mscrapy\u001b[0m\u001b[1;33m\u001b[0m\u001b[1;33m\u001b[0m\u001b[0m\n\u001b[0;32m      2\u001b[0m \u001b[1;32mfrom\u001b[0m \u001b[0mscrapy\u001b[0m\u001b[1;33m.\u001b[0m\u001b[0mhttp\u001b[0m \u001b[1;32mimport\u001b[0m \u001b[0mHtmlResponse\u001b[0m\u001b[1;33m\u001b[0m\u001b[1;33m\u001b[0m\u001b[0m\n\u001b[1;32m----> 3\u001b[1;33m \u001b[1;32mfrom\u001b[0m \u001b[0mjobparser\u001b[0m\u001b[1;33m.\u001b[0m\u001b[0mitems\u001b[0m \u001b[1;32mimport\u001b[0m \u001b[0mJobparserItem\u001b[0m\u001b[1;33m\u001b[0m\u001b[1;33m\u001b[0m\u001b[0m\n\u001b[0m",
      "\u001b[1;31mModuleNotFoundError\u001b[0m: No module named 'jobparser'"
     ]
    }
   ],
   "source": [
    "import scrapy\n",
    "from scrapy.http import HtmlResponse\n",
    "from jobparser.items import JobparserItem"
   ]
  },
  {
   "cell_type": "code",
   "execution_count": 10,
   "id": "aba2b985",
   "metadata": {},
   "outputs": [],
   "source": [
    "class SjruSpider(scrapy.Spider):\n",
    "    name = 'sjru'\n",
    "    allowed_domains = ['superjob.ru']\n",
    "    search = 'python'\n",
    "    start_urls = [f'https://russia.superjob.ru/vacancy/search/?keywords={search}']"
   ]
  },
  {
   "cell_type": "code",
   "execution_count": 11,
   "id": "72a4d950",
   "metadata": {},
   "outputs": [],
   "source": [
    "def parse(self, response: HtmlResponse):\n",
    "        next_page = response.xpath('//a[@rel=\"next\"]/@href').extract_first()\n",
    "        vacancy_links = response.xpath('//div[@class=\"_3zucV _1fMKr undefined _1NAsu\"]/*/*/*/*/*/*/a/@href').extract()"
   ]
  },
  {
   "cell_type": "code",
   "execution_count": 13,
   "id": "c87aab7d",
   "metadata": {},
   "outputs": [
    {
     "ename": "IndentationError",
     "evalue": "unindent does not match any outer indentation level (<tokenize>, line 3)",
     "output_type": "error",
     "traceback": [
      "\u001b[1;36m  File \u001b[1;32m\"<tokenize>\"\u001b[1;36m, line \u001b[1;32m3\u001b[0m\n\u001b[1;33m    yield response.follow(next_page, callback=self.parse)\u001b[0m\n\u001b[1;37m    ^\u001b[0m\n\u001b[1;31mIndentationError\u001b[0m\u001b[1;31m:\u001b[0m unindent does not match any outer indentation level\n"
     ]
    }
   ],
   "source": [
    "for link in vacancy_links:\n",
    "            yield response.follow(link, callback=self.vacancy_parse)\n",
    "        yield response.follow(next_page, callback=self.parse)"
   ]
  },
  {
   "cell_type": "code",
   "execution_count": 14,
   "id": "09a6e682",
   "metadata": {},
   "outputs": [],
   "source": [
    "def vacancy_parse(selfself, response: HtmlResponse):\n",
    "        name_job = response.xpath('//h1/text()').extract_first()\n",
    "        salary_job = response.xpath('//span[@class=\"_1OuF_ ZON4b\"]//text()').extract()\n",
    "        location_job = response.xpath('//div[@class=\"f-test-address _3AQrx\"]//text()').extract()\n",
    "        position_link = response.url\n",
    "        company_job = response.xpath('//span[@class=\"_3mfro _1hP6a _2JVkc _2VHxz\"]/text() |'\n",
    "                                     ' //h2[@class=\"_3mfro PlM3e _2JVkc _2VHxz _3LJqf _15msI\"]/text()').extract_first()\n",
    "        yield JobparserItem(name=name_job, salary=salary_job, location=location_job,\n",
    "                            link=position_link, company=company_job)"
   ]
  },
  {
   "cell_type": "code",
   "execution_count": 15,
   "id": "875706af",
   "metadata": {},
   "outputs": [
    {
     "ename": "ModuleNotFoundError",
     "evalue": "No module named 'pymongo'",
     "output_type": "error",
     "traceback": [
      "\u001b[1;31m---------------------------------------------------------------------------\u001b[0m",
      "\u001b[1;31mModuleNotFoundError\u001b[0m                       Traceback (most recent call last)",
      "\u001b[1;32m~\\AppData\\Local\\Temp\\ipykernel_6316\\2934200404.py\u001b[0m in \u001b[0;36m<module>\u001b[1;34m\u001b[0m\n\u001b[1;32m----> 1\u001b[1;33m \u001b[1;32mfrom\u001b[0m \u001b[0mpymongo\u001b[0m \u001b[1;32mimport\u001b[0m \u001b[0mMongoClient\u001b[0m\u001b[1;33m\u001b[0m\u001b[1;33m\u001b[0m\u001b[0m\n\u001b[0m",
      "\u001b[1;31mModuleNotFoundError\u001b[0m: No module named 'pymongo'"
     ]
    }
   ],
   "source": [
    "from pymongo import MongoClient"
   ]
  },
  {
   "cell_type": "code",
   "execution_count": 16,
   "id": "ffb0a6ab",
   "metadata": {},
   "outputs": [],
   "source": [
    "class JobparserPipeline:                            \n",
    "    def __init__(self):                             \n",
    "        client = MongoClient('localhost', 27017)\n",
    "        self.mongo_base = client.vacancy\n",
    "        # self.mongo_base = client.vacancy_hh_scrapy"
   ]
  },
  {
   "cell_type": "code",
   "execution_count": 17,
   "id": "6841066a",
   "metadata": {},
   "outputs": [],
   "source": [
    "def process_item(self, item, spider):           \n",
    "        collection = self.mongo_base['vacancy']   "
   ]
  },
  {
   "cell_type": "code",
   "execution_count": 18,
   "id": "ed862872",
   "metadata": {},
   "outputs": [
    {
     "ename": "NameError",
     "evalue": "name 'spider' is not defined",
     "output_type": "error",
     "traceback": [
      "\u001b[1;31m---------------------------------------------------------------------------\u001b[0m",
      "\u001b[1;31mNameError\u001b[0m                                 Traceback (most recent call last)",
      "\u001b[1;32m~\\AppData\\Local\\Temp\\ipykernel_6316\\2568143554.py\u001b[0m in \u001b[0;36m<module>\u001b[1;34m\u001b[0m\n\u001b[1;32m----> 1\u001b[1;33m \u001b[1;32mif\u001b[0m \u001b[0mspider\u001b[0m\u001b[1;33m.\u001b[0m\u001b[0mname\u001b[0m \u001b[1;33m==\u001b[0m \u001b[1;34m'hhru'\u001b[0m\u001b[1;33m:\u001b[0m\u001b[1;33m\u001b[0m\u001b[1;33m\u001b[0m\u001b[0m\n\u001b[0m\u001b[0;32m      2\u001b[0m             \u001b[0msalary_list\u001b[0m \u001b[1;33m=\u001b[0m \u001b[1;33m[\u001b[0m\u001b[1;33m]\u001b[0m\u001b[1;33m\u001b[0m\u001b[1;33m\u001b[0m\u001b[0m\n\u001b[0;32m      3\u001b[0m             \u001b[1;32mfor\u001b[0m \u001b[0m_\u001b[0m \u001b[1;32min\u001b[0m \u001b[0mitem\u001b[0m\u001b[1;33m[\u001b[0m\u001b[1;34m'salary'\u001b[0m\u001b[1;33m]\u001b[0m\u001b[1;33m:\u001b[0m\u001b[1;33m\u001b[0m\u001b[1;33m\u001b[0m\u001b[0m\n\u001b[0;32m      4\u001b[0m                 \u001b[0ms\u001b[0m \u001b[1;33m=\u001b[0m \u001b[0m_\u001b[0m\u001b[1;33m.\u001b[0m\u001b[0mreplace\u001b[0m\u001b[1;33m(\u001b[0m\u001b[1;34m\" \"\u001b[0m\u001b[1;33m,\u001b[0m \u001b[1;34m\"\"\u001b[0m\u001b[1;33m)\u001b[0m\u001b[1;33m.\u001b[0m\u001b[0mreplace\u001b[0m\u001b[1;33m(\u001b[0m\u001b[1;34m\"\\xa0\"\u001b[0m\u001b[1;33m,\u001b[0m \u001b[1;34m\"\"\u001b[0m\u001b[1;33m)\u001b[0m\u001b[1;33m\u001b[0m\u001b[1;33m\u001b[0m\u001b[0m\n\u001b[0;32m      5\u001b[0m                 \u001b[0msalary_list\u001b[0m\u001b[1;33m.\u001b[0m\u001b[0mappend\u001b[0m\u001b[1;33m(\u001b[0m\u001b[0ms\u001b[0m\u001b[1;33m)\u001b[0m\u001b[1;33m\u001b[0m\u001b[1;33m\u001b[0m\u001b[0m\n",
      "\u001b[1;31mNameError\u001b[0m: name 'spider' is not defined"
     ]
    }
   ],
   "source": [
    "if spider.name == 'hhru':       \n",
    "            salary_list = []\n",
    "            for _ in item['salary']:\n",
    "                s = _.replace(\" \", \"\").replace(\"\\xa0\", \"\")\n",
    "                salary_list.append(s)\n",
    "            item['salary'] = salary_list\n",
    "            if item['salary'][0] == 'от':\n",
    "                item['salary_min'] = int(item['salary'][1])\n",
    "                if item['salary'][2] == 'до':\n",
    "                    item['salary_max'] = int(item['salary'][3])\n",
    "                    item['currency'] = item['salary'][5]\n",
    "                else:\n",
    "                    item['salary_max'] = 'NA'\n",
    "                    item['currency'] = item['salary'][3]\n",
    "            elif item['salary'][0] == 'до':\n",
    "                item['salary_min'] = 'NA'\n",
    "                item['salary_max'] = int(item['salary'][1])\n",
    "                item['currency'] = item['salary'][3]\n",
    "            elif item['salary'][0] == 'з/пнеуказана':\n",
    "                item['salary_min'] = 'NA'\n",
    "                item['salary_max'] = 'NA'\n",
    "            else:\n",
    "                item['salary_min'] = 'wrong'\n",
    "                item['salary_max'] = 'wrong'\n",
    "            del item['salary']"
   ]
  },
  {
   "cell_type": "code",
   "execution_count": 19,
   "id": "57b481e9",
   "metadata": {},
   "outputs": [
    {
     "ename": "IndentationError",
     "evalue": "unexpected indent (3195542151.py, line 2)",
     "output_type": "error",
     "traceback": [
      "\u001b[1;36m  File \u001b[1;32m\"C:\\Users\\Оксана\\AppData\\Local\\Temp\\ipykernel_6316\\3195542151.py\"\u001b[1;36m, line \u001b[1;32m2\u001b[0m\n\u001b[1;33m    item['company'] = ' '.join(item['company']).replace(\"\\xa0\", \"\").replace(\"  \", \" \").strip()\u001b[0m\n\u001b[1;37m    ^\u001b[0m\n\u001b[1;31mIndentationError\u001b[0m\u001b[1;31m:\u001b[0m unexpected indent\n"
     ]
    }
   ],
   "source": [
    "item['location'] = ' '.join(item['location']).replace(\"  \", \" \").replace(\" ,\", \",\")\n",
    "            item['company'] = ' '.join(item['company']).replace(\"\\xa0\", \"\").replace(\"  \", \" \").strip()\n",
    "            item['site'] = 'https://hh.ru'\n",
    "            item['link'] = item['link'][:item['link'].find('?')]"
   ]
  },
  {
   "cell_type": "code",
   "execution_count": 20,
   "id": "18e65cd9",
   "metadata": {},
   "outputs": [
    {
     "ename": "NameError",
     "evalue": "name 'spider' is not defined",
     "output_type": "error",
     "traceback": [
      "\u001b[1;31m---------------------------------------------------------------------------\u001b[0m",
      "\u001b[1;31mNameError\u001b[0m                                 Traceback (most recent call last)",
      "\u001b[1;32m~\\AppData\\Local\\Temp\\ipykernel_6316\\2642301978.py\u001b[0m in \u001b[0;36m<module>\u001b[1;34m\u001b[0m\n\u001b[1;32m----> 1\u001b[1;33m \u001b[1;32mif\u001b[0m \u001b[0mspider\u001b[0m\u001b[1;33m.\u001b[0m\u001b[0mname\u001b[0m \u001b[1;33m==\u001b[0m \u001b[1;34m'sjru'\u001b[0m\u001b[1;33m:\u001b[0m\u001b[1;33m\u001b[0m\u001b[1;33m\u001b[0m\u001b[0m\n\u001b[0m\u001b[0;32m      2\u001b[0m             \u001b[0msalary_list\u001b[0m \u001b[1;33m=\u001b[0m \u001b[1;33m[\u001b[0m\u001b[1;33m]\u001b[0m\u001b[1;33m\u001b[0m\u001b[1;33m\u001b[0m\u001b[0m\n\u001b[0;32m      3\u001b[0m             \u001b[1;32mfor\u001b[0m \u001b[0m_\u001b[0m \u001b[1;32min\u001b[0m \u001b[0mitem\u001b[0m\u001b[1;33m[\u001b[0m\u001b[1;34m'salary'\u001b[0m\u001b[1;33m]\u001b[0m\u001b[1;33m:\u001b[0m\u001b[1;33m\u001b[0m\u001b[1;33m\u001b[0m\u001b[0m\n\u001b[0;32m      4\u001b[0m                 \u001b[0ms\u001b[0m \u001b[1;33m=\u001b[0m \u001b[0m_\u001b[0m\u001b[1;33m.\u001b[0m\u001b[0mreplace\u001b[0m\u001b[1;33m(\u001b[0m\u001b[1;34m\" \"\u001b[0m\u001b[1;33m,\u001b[0m \u001b[1;34m\"\"\u001b[0m\u001b[1;33m)\u001b[0m\u001b[1;33m.\u001b[0m\u001b[0mreplace\u001b[0m\u001b[1;33m(\u001b[0m\u001b[1;34m\"\\xa0\"\u001b[0m\u001b[1;33m,\u001b[0m \u001b[1;34m\"\"\u001b[0m\u001b[1;33m)\u001b[0m\u001b[1;33m\u001b[0m\u001b[1;33m\u001b[0m\u001b[0m\n\u001b[0;32m      5\u001b[0m                 \u001b[0msalary_list\u001b[0m\u001b[1;33m.\u001b[0m\u001b[0mappend\u001b[0m\u001b[1;33m(\u001b[0m\u001b[0ms\u001b[0m\u001b[1;33m)\u001b[0m\u001b[1;33m\u001b[0m\u001b[1;33m\u001b[0m\u001b[0m\n",
      "\u001b[1;31mNameError\u001b[0m: name 'spider' is not defined"
     ]
    }
   ],
   "source": [
    "if spider.name == 'sjru':\n",
    "            salary_list = []\n",
    "            for _ in item['salary']:\n",
    "                s = _.replace(\" \", \"\").replace(\"\\xa0\", \"\")\n",
    "                salary_list.append(s)\n",
    "            item['salary'] = salary_list"
   ]
  },
  {
   "cell_type": "code",
   "execution_count": 21,
   "id": "3f35c829",
   "metadata": {},
   "outputs": [
    {
     "ename": "NameError",
     "evalue": "name 'item' is not defined",
     "output_type": "error",
     "traceback": [
      "\u001b[1;31m---------------------------------------------------------------------------\u001b[0m",
      "\u001b[1;31mNameError\u001b[0m                                 Traceback (most recent call last)",
      "\u001b[1;32m~\\AppData\\Local\\Temp\\ipykernel_6316\\50678904.py\u001b[0m in \u001b[0;36m<module>\u001b[1;34m\u001b[0m\n\u001b[1;32m----> 1\u001b[1;33m \u001b[1;32mif\u001b[0m \u001b[0mitem\u001b[0m\u001b[1;33m[\u001b[0m\u001b[1;34m'salary'\u001b[0m\u001b[1;33m]\u001b[0m\u001b[1;33m[\u001b[0m\u001b[1;36m0\u001b[0m\u001b[1;33m]\u001b[0m \u001b[1;33m==\u001b[0m \u001b[1;34m'Подоговорённости'\u001b[0m\u001b[1;33m:\u001b[0m\u001b[1;33m\u001b[0m\u001b[1;33m\u001b[0m\u001b[0m\n\u001b[0m\u001b[0;32m      2\u001b[0m                 \u001b[0mitem\u001b[0m\u001b[1;33m[\u001b[0m\u001b[1;34m'salary_min'\u001b[0m\u001b[1;33m]\u001b[0m \u001b[1;33m=\u001b[0m \u001b[1;34m'NA'\u001b[0m\u001b[1;33m\u001b[0m\u001b[1;33m\u001b[0m\u001b[0m\n\u001b[0;32m      3\u001b[0m                 \u001b[0mitem\u001b[0m\u001b[1;33m[\u001b[0m\u001b[1;34m'salary_max'\u001b[0m\u001b[1;33m]\u001b[0m \u001b[1;33m=\u001b[0m \u001b[1;34m'NA'\u001b[0m\u001b[1;33m\u001b[0m\u001b[1;33m\u001b[0m\u001b[0m\n",
      "\u001b[1;31mNameError\u001b[0m: name 'item' is not defined"
     ]
    }
   ],
   "source": [
    "if item['salary'][0] == 'Подоговорённости':\n",
    "                item['salary_min'] = 'NA'\n",
    "                item['salary_max'] = 'NA'"
   ]
  },
  {
   "cell_type": "code",
   "execution_count": 22,
   "id": "865b305b",
   "metadata": {},
   "outputs": [
    {
     "ename": "SyntaxError",
     "evalue": "invalid syntax (2955203586.py, line 1)",
     "output_type": "error",
     "traceback": [
      "\u001b[1;36m  File \u001b[1;32m\"C:\\Users\\Оксана\\AppData\\Local\\Temp\\ipykernel_6316\\2955203586.py\"\u001b[1;36m, line \u001b[1;32m1\u001b[0m\n\u001b[1;33m    elif item['salary'][2] == '—':\u001b[0m\n\u001b[1;37m    ^\u001b[0m\n\u001b[1;31mSyntaxError\u001b[0m\u001b[1;31m:\u001b[0m invalid syntax\n"
     ]
    }
   ],
   "source": [
    "elif item['salary'][2] == '—':\n",
    "                item['salary_min'] = int(item['salary'][0])\n",
    "                item['salary_max'] = int(item['salary'][4])\n",
    "                item['currency'] = item['salary'][6]"
   ]
  },
  {
   "cell_type": "code",
   "execution_count": 23,
   "id": "cd62653e",
   "metadata": {},
   "outputs": [
    {
     "ename": "SyntaxError",
     "evalue": "invalid syntax (1011930645.py, line 1)",
     "output_type": "error",
     "traceback": [
      "\u001b[1;36m  File \u001b[1;32m\"C:\\Users\\Оксана\\AppData\\Local\\Temp\\ipykernel_6316\\1011930645.py\"\u001b[1;36m, line \u001b[1;32m1\u001b[0m\n\u001b[1;33m    elif item['salary'][0] == 'от':\u001b[0m\n\u001b[1;37m    ^\u001b[0m\n\u001b[1;31mSyntaxError\u001b[0m\u001b[1;31m:\u001b[0m invalid syntax\n"
     ]
    }
   ],
   "source": [
    " elif item['salary'][0] == 'от':\n",
    "                pos = item['salary'][2].find('руб.')\n",
    "                item['salary_min'] = item['salary'][2][:pos]\n",
    "                item['currency'] = item['salary'][2][pos:]\n"
   ]
  },
  {
   "cell_type": "code",
   "execution_count": 24,
   "id": "b4ab23da",
   "metadata": {},
   "outputs": [
    {
     "ename": "SyntaxError",
     "evalue": "invalid syntax (3941118779.py, line 1)",
     "output_type": "error",
     "traceback": [
      "\u001b[1;36m  File \u001b[1;32m\"C:\\Users\\Оксана\\AppData\\Local\\Temp\\ipykernel_6316\\3941118779.py\"\u001b[1;36m, line \u001b[1;32m1\u001b[0m\n\u001b[1;33m    elif item['salary'][0] == 'до':\u001b[0m\n\u001b[1;37m    ^\u001b[0m\n\u001b[1;31mSyntaxError\u001b[0m\u001b[1;31m:\u001b[0m invalid syntax\n"
     ]
    }
   ],
   "source": [
    "elif item['salary'][0] == 'до':\n",
    "                pos = item['salary'][2].find('руб.')\n",
    "                item['salary_max'] = item['salary'][2][:pos]\n",
    "                item['currency'] = item['salary'][2][pos:]"
   ]
  },
  {
   "cell_type": "code",
   "execution_count": 25,
   "id": "026c44b4",
   "metadata": {},
   "outputs": [
    {
     "ename": "SyntaxError",
     "evalue": "invalid syntax (3992885486.py, line 1)",
     "output_type": "error",
     "traceback": [
      "\u001b[1;36m  File \u001b[1;32m\"C:\\Users\\Оксана\\AppData\\Local\\Temp\\ipykernel_6316\\3992885486.py\"\u001b[1;36m, line \u001b[1;32m1\u001b[0m\n\u001b[1;33m    elif item['salary'][2] == 'руб.':\u001b[0m\n\u001b[1;37m    ^\u001b[0m\n\u001b[1;31mSyntaxError\u001b[0m\u001b[1;31m:\u001b[0m invalid syntax\n"
     ]
    }
   ],
   "source": [
    "elif item['salary'][2] == 'руб.':\n",
    "                item['salary_min'] = item['salary'][0]\n",
    "                item['salary_max'] = item['salary'][0]\n",
    "                item['currency'] = item['salary'][2]"
   ]
  },
  {
   "cell_type": "code",
   "execution_count": 27,
   "id": "9212d0f2",
   "metadata": {},
   "outputs": [
    {
     "ename": "IndentationError",
     "evalue": "unindent does not match any outer indentation level (<tokenize>, line 4)",
     "output_type": "error",
     "traceback": [
      "\u001b[1;36m  File \u001b[1;32m\"<tokenize>\"\u001b[1;36m, line \u001b[1;32m4\u001b[0m\n\u001b[1;33m    del item['salary']\u001b[0m\n\u001b[1;37m    ^\u001b[0m\n\u001b[1;31mIndentationError\u001b[0m\u001b[1;31m:\u001b[0m unindent does not match any outer indentation level\n"
     ]
    }
   ],
   "source": [
    "else:\n",
    "                item['salary_min'] = 'wrong'\n",
    "                item['salary_max'] = 'wrong'\n",
    "            del item['salary']"
   ]
  },
  {
   "cell_type": "code",
   "execution_count": 28,
   "id": "0997e64b",
   "metadata": {},
   "outputs": [
    {
     "ename": "IndentationError",
     "evalue": "unexpected indent (3998915270.py, line 3)",
     "output_type": "error",
     "traceback": [
      "\u001b[1;36m  File \u001b[1;32m\"C:\\Users\\Оксана\\AppData\\Local\\Temp\\ipykernel_6316\\3998915270.py\"\u001b[1;36m, line \u001b[1;32m3\u001b[0m\n\u001b[1;33m    item['site'] = 'https://superjob.ru'\u001b[0m\n\u001b[1;37m    ^\u001b[0m\n\u001b[1;31mIndentationError\u001b[0m\u001b[1;31m:\u001b[0m unexpected indent\n"
     ]
    }
   ],
   "source": [
    "  item['location'] = ' '.join(item['location']).replace(\"  \", \" \")\\\n",
    "                .replace(\" ,\", \",\").replace(\" Показать на карте\", \"\")\n",
    "            item['site'] = 'https://superjob.ru'"
   ]
  },
  {
   "cell_type": "code",
   "execution_count": 29,
   "id": "6b8920b0",
   "metadata": {},
   "outputs": [
    {
     "ename": "IndentationError",
     "evalue": "unexpected indent (2451322937.py, line 2)",
     "output_type": "error",
     "traceback": [
      "\u001b[1;36m  File \u001b[1;32m\"C:\\Users\\Оксана\\AppData\\Local\\Temp\\ipykernel_6316\\2451322937.py\"\u001b[1;36m, line \u001b[1;32m2\u001b[0m\n\u001b[1;33m    return item\u001b[0m\n\u001b[1;37m    ^\u001b[0m\n\u001b[1;31mIndentationError\u001b[0m\u001b[1;31m:\u001b[0m unexpected indent\n"
     ]
    }
   ],
   "source": [
    "collection.insert_one(item)  # Добавляем в базу данных\n",
    "        return item"
   ]
  },
  {
   "cell_type": "code",
   "execution_count": null,
   "id": "ce449b1a",
   "metadata": {},
   "outputs": [],
   "source": []
  }
 ],
 "metadata": {
  "kernelspec": {
   "display_name": "Python 3 (ipykernel)",
   "language": "python",
   "name": "python3"
  },
  "language_info": {
   "codemirror_mode": {
    "name": "ipython",
    "version": 3
   },
   "file_extension": ".py",
   "mimetype": "text/x-python",
   "name": "python",
   "nbconvert_exporter": "python",
   "pygments_lexer": "ipython3",
   "version": "3.9.13"
  }
 },
 "nbformat": 4,
 "nbformat_minor": 5
}
